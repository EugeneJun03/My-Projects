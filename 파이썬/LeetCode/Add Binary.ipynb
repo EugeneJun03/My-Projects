{
 "cells": [
  {
   "cell_type": "markdown",
   "metadata": {},
   "source": [
    "### 67. Add Binary\n",
    "Given two binary strings a and b, return their sum as a binary string.\n",
    "\n",
    "- Example 1:\n",
    "\n",
    "Input: a = \"11\", b = \"1\"\n",
    "\n",
    "Output: \"100\"\n",
    "\n",
    "- Example 2:\n",
    "\n",
    "Input: a = \"1010\", b = \"1011\"\n",
    "\n",
    "Output: \"10101\""
   ]
  },
  {
   "cell_type": "code",
   "execution_count": 2,
   "metadata": {},
   "outputs": [],
   "source": [
    "class Solution:\n",
    "    def addBinary(self, a: str, b: str) -> str:\n",
    "        sumab = int(a) + int(b)\n",
    "        n = 0\n",
    "        res1 = 0\n",
    "        while sumab != 0:\n",
    "            temp = sumab%10\n",
    "            res1 += temp * (2**n)\n",
    "            n += 1\n",
    "            sumab = sumab//10\n",
    "        m = 0\n",
    "        res2 = 0\n",
    "        while res1 != 0:\n",
    "            temp = res1%2\n",
    "            res2 += temp * (10**m)\n",
    "            m += 1\n",
    "            res1 = res1//2\n",
    "        return str(res2)"
   ]
  },
  {
   "cell_type": "code",
   "execution_count": 3,
   "metadata": {},
   "outputs": [],
   "source": [
    "class Solution:\n",
    "  def addBinary(self, a: str, b: str) -> str:\n",
    "    s = []\n",
    "    carry = 0\n",
    "    i = len(a) - 1\n",
    "    j = len(b) - 1\n",
    "\n",
    "    while i >= 0 or j >= 0 or carry:\n",
    "      if i >= 0:\n",
    "        carry += int(a[i])\n",
    "        i -= 1\n",
    "      if j >= 0:\n",
    "        carry += int(b[j])\n",
    "        j -= 1\n",
    "      s.append(str(carry % 2))\n",
    "      carry //= 2\n",
    "\n",
    "    return ''.join(reversed(s))"
   ]
  },
  {
   "cell_type": "code",
   "execution_count": 5,
   "metadata": {},
   "outputs": [
    {
     "data": {
      "text/plain": [
       "'1001'"
      ]
     },
     "execution_count": 5,
     "metadata": {},
     "output_type": "execute_result"
    }
   ],
   "source": [
    "case1 = Solution()\n",
    "case1.addBinary(\"111\",\"10\")"
   ]
  }
 ],
 "metadata": {
  "kernelspec": {
   "display_name": "Python 3",
   "language": "python",
   "name": "python3"
  },
  "language_info": {
   "codemirror_mode": {
    "name": "ipython",
    "version": 3
   },
   "file_extension": ".py",
   "mimetype": "text/x-python",
   "name": "python",
   "nbconvert_exporter": "python",
   "pygments_lexer": "ipython3",
   "version": "3.11.0"
  }
 },
 "nbformat": 4,
 "nbformat_minor": 2
}
