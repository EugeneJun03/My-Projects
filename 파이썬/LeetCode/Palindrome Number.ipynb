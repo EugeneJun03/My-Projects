{
 "cells": [
  {
   "cell_type": "markdown",
   "metadata": {},
   "source": [
    "### 9. Palindrome_Number\n",
    "Given an integer x, return true if x is a palindrome, and false otherwise.\n",
    "\n",
    "- Example 1:\n",
    "\n",
    "Input: x = 121\n",
    "\n",
    "Output: true\n",
    "\n",
    "Explanation: 121 reads as 121 from left to right and from right to left.\n",
    "\n",
    "- Example 2:\n",
    "\n",
    "Input: x = -121\n",
    "\n",
    "Output: false\n",
    "\n",
    "Explanation: From left to right, it reads -121. From right to left, it becomes 121-. Therefore it is not a palindrome."
   ]
  },
  {
   "cell_type": "code",
   "execution_count": 19,
   "metadata": {},
   "outputs": [],
   "source": [
    "class Solution:\n",
    "    def isPalindrome(self, x:int):\n",
    "        self.x = x\n",
    "        x_list = list(str(self.x))\n",
    "        print(x_list)\n",
    "        if x_list == x_list[::-1]:\n",
    "            print(\"true\")\n",
    "        else:\n",
    "            print(\"false\")"
   ]
  },
  {
   "cell_type": "code",
   "execution_count": 23,
   "metadata": {},
   "outputs": [],
   "source": [
    "class Solution:\n",
    "    def isPalindrome(self, x:int):\n",
    "        self.x = x\n",
    "        x_list = list(str(self.x))\n",
    "        flag = 0\n",
    "        for i in range(len(x_list)//2):\n",
    "            if x_list[i] != x_list[-1-i]:\n",
    "                flag = 1\n",
    "                break\n",
    "        if flag == 0:\n",
    "            return True\n",
    "        else:\n",
    "            return False"
   ]
  },
  {
   "cell_type": "code",
   "execution_count": null,
   "metadata": {},
   "outputs": [],
   "source": [
    "class Solution:\n",
    "    def isPalindrome(self, x: int) -> bool:\n",
    "        if x < 0:\n",
    "            return False\n",
    "\n",
    "        reversed_num = 0\n",
    "        temp = x\n",
    "\n",
    "        while temp != 0:\n",
    "            digit = temp % 10\n",
    "            reversed_num = reversed_num * 10 + digit\n",
    "            temp //= 10\n",
    "\n",
    "        return reversed_num == x"
   ]
  },
  {
   "cell_type": "code",
   "execution_count": 25,
   "metadata": {},
   "outputs": [
    {
     "name": "stdout",
     "output_type": "stream",
     "text": [
      "false\n"
     ]
    }
   ],
   "source": [
    "case1 = Solution()\n",
    "case1.isPalindrome(-121)"
   ]
  }
 ],
 "metadata": {
  "kernelspec": {
   "display_name": "Python 3",
   "language": "python",
   "name": "python3"
  },
  "language_info": {
   "codemirror_mode": {
    "name": "ipython",
    "version": 3
   },
   "file_extension": ".py",
   "mimetype": "text/x-python",
   "name": "python",
   "nbconvert_exporter": "python",
   "pygments_lexer": "ipython3",
   "version": "3.11.0"
  }
 },
 "nbformat": 4,
 "nbformat_minor": 2
}
