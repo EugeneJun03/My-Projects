{
 "cells": [
  {
   "cell_type": "markdown",
   "metadata": {},
   "source": [
    "### 7. Reverse Integer\n",
    "- Given a signed 32-bit integer x, return x with its digits reversed. If reversing x causes the value to go outside the signed 32-bit integer range [-231, 231 - 1], then return 0."
   ]
  },
  {
   "cell_type": "code",
   "execution_count": null,
   "metadata": {},
   "outputs": [],
   "source": [
    "class Solution:\n",
    "    def reverse(self, x: int) -> int:\n",
    "        if -2**31<=x<=2**31-1:\n",
    "            if x>=0:\n",
    "                res = int(str(x)[::-1])\n",
    "            else:\n",
    "                res = int(str(-x)[::-1])*-1\n",
    "        else:\n",
    "            return 0\n",
    "        if -2**31<=res<=2**31-1:\n",
    "            return res\n",
    "        else:\n",
    "            return 0\n",
    "        "
   ]
  },
  {
   "cell_type": "code",
   "execution_count": null,
   "metadata": {},
   "outputs": [],
   "source": [
    "class Solution:\n",
    "    def reverse(self, x: int) -> int:\n",
    "        res = int(str(abs(x))[::-1])\n",
    "        return (-res if x < 0 else res) if res.bit_length() < 32 else 0\n",
    "        "
   ]
  }
 ],
 "metadata": {
  "language_info": {
   "name": "python"
  }
 },
 "nbformat": 4,
 "nbformat_minor": 2
}
