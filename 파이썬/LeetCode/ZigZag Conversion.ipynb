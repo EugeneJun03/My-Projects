{
 "cells": [
  {
   "cell_type": "markdown",
   "metadata": {},
   "source": [
    "### 6.Zigzag Conversion\n",
    "- The string \"PAYPALISHIRING\" is written in a zigzag pattern on a given number of rows like this: (you may want to display this pattern in a fixed font for better legibility)\n",
    "- Write the code that will take a string and make this conversion given a number of rows:"
   ]
  },
  {
   "cell_type": "markdown",
   "metadata": {},
   "source": [
    "- Example 1:\n",
    "\n",
    "Input: s = \"PAYPALISHIRING\", numRows = 3\n",
    "\n",
    "Output: \"PAHNAPLSIIGYIR\"\n",
    "\n",
    "- Example 2:\n",
    "\n",
    "Input: s = \"PAYPALISHIRING\", numRows = 4\n",
    "\n",
    "Output: \"PINALSIGYAHRPI\"\n",
    "\n",
    "Explanation:\n",
    "\n",
    "P_____I____N\n",
    "\n",
    "A___L_S__I_G\n",
    "\n",
    "Y_A___H_R\n",
    "\n",
    "P_____I\n",
    "\n",
    "- Example 3:\n",
    "\n",
    "Input: s = \"A\", numRows = 1\n",
    "\n",
    "Output: \"A\""
   ]
  },
  {
   "cell_type": "code",
   "execution_count": 11,
   "metadata": {},
   "outputs": [],
   "source": [
    "class Solution:\n",
    "    def convert(self, s: str, numRows: int) -> str:\n",
    "        res = \"\"\n",
    "        list_Row = [[] for _ in range(numRows)] # maloope list for each rows\n",
    "        n = 0\n",
    "        # to calculate the loop of zigzag motion\n",
    "        if numRows < 3:\n",
    "            loop = numRows\n",
    "        else:\n",
    "            loop = numRows*2-2\n",
    "\n",
    "        # this is a complex(not good) algorithm to change \"n\"value    \n",
    "        for i in range(len(s)):\n",
    "            list_Row[n].append(s[i])\n",
    "            if i%loop == loop-1:\n",
    "                n = 0\n",
    "            elif (numRows-1) <= i%loop < loop-1:\n",
    "                n -= 1\n",
    "            elif n < (numRows-1):\n",
    "                n += 1\n",
    "        \n",
    "        # add every value to 'res'    \n",
    "        for i in list_Row:\n",
    "            for j in i:\n",
    "                res += j\n",
    "        return res\n",
    "    ''' \"alternative\"\n",
    "        for i in range(numRows):\n",
    "            list_Row[i] = ''.join(list_Row[i])\n",
    "        return ''.join(list_Row)'''"
   ]
  },
  {
   "cell_type": "code",
   "execution_count": 13,
   "metadata": {},
   "outputs": [
    {
     "data": {
      "text/plain": [
       "'PINALSIGYAHRPI'"
      ]
     },
     "execution_count": 13,
     "metadata": {},
     "output_type": "execute_result"
    }
   ],
   "source": [
    "ans = Solution()\n",
    "ans.convert(\"PAYPALISHIRING\",4)"
   ]
  },
  {
   "cell_type": "code",
   "execution_count": null,
   "metadata": {},
   "outputs": [],
   "source": [
    "# AlgoEngine(beats 95.14%)\n",
    "class Solution(object):\n",
    "    def convert(self, s, numRows):\n",
    "        if numRows == 1 or numRows >= len(s):\n",
    "            return s\n",
    "        \n",
    "        rows = [[] for row in range(numRows)]\n",
    "        index = 0\n",
    "        step = -1\n",
    "\n",
    "        # in this way, it dosen't need to apperate complexly by forming range of values\n",
    "        # just change the value of the 'step' and it will continue while it has to be\n",
    "        for char in s:\n",
    "            rows[index].append(char)\n",
    "            if index == 0:\n",
    "                step = 1\n",
    "            elif index == numRows - 1:\n",
    "                step = -1\n",
    "            index += step\n",
    "\n",
    "        # by doing 'join'method it reduces runing time of this code\n",
    "        for i in range(numRows):\n",
    "            rows[i] = ''.join(rows[i])\n",
    "        return ''.join(rows)"
   ]
  }
 ],
 "metadata": {
  "kernelspec": {
   "display_name": "Python 3",
   "language": "python",
   "name": "python3"
  },
  "language_info": {
   "codemirror_mode": {
    "name": "ipython",
    "version": 3
   },
   "file_extension": ".py",
   "mimetype": "text/x-python",
   "name": "python",
   "nbconvert_exporter": "python",
   "pygments_lexer": "ipython3",
   "version": "3.8.8"
  }
 },
 "nbformat": 4,
 "nbformat_minor": 2
}
