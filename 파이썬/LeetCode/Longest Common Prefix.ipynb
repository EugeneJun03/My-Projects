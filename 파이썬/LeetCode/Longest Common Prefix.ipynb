{
 "cells": [
  {
   "cell_type": "markdown",
   "metadata": {},
   "source": [
    "### 14. Longest Common Prefix\n",
    "- Write a function to find the longest common prefix string amongst an array of strings.If there is no common prefix, return an empty string \"\"."
   ]
  },
  {
   "cell_type": "markdown",
   "metadata": {},
   "source": [
    "- Example 1:\n",
    "\n",
    "Input: strs = [\"flower\",\"flow\",\"flight\"]\n",
    "\n",
    "Output: \"fl\"\n",
    "\n",
    "- Example 2:\n",
    "\n",
    "Input: strs = [\"dog\",\"racecar\",\"car\"]\n",
    "\n",
    "Output: \"\"\n",
    "\n",
    "Explanation: There is no common prefix among the input strings."
   ]
  },
  {
   "cell_type": "code",
   "execution_count": 21,
   "metadata": {},
   "outputs": [],
   "source": [
    "class Solution:\n",
    "    def longestCommonPrefix(self, strs):\n",
    "        # for exceptions\n",
    "        if \"\" in strs:\n",
    "            return \"\"\n",
    "        if len(strs) == 1:\n",
    "            return strs[0]\n",
    "        \n",
    "        # setting an base for comperison\n",
    "        first = strs[0]\n",
    "        flag = 0 # flag for when to stop looping while statement\n",
    "        point = -1\n",
    "\n",
    "        while flag == 0:\n",
    "            point += 1 # adding points to get forwards\n",
    "            # if the loop reached the end of the first letter -> break\n",
    "            if point == len(strs[0]):\n",
    "                return strs[0]\n",
    "            \n",
    "            for i in strs[1:]:\n",
    "                # I've used try-except to get rid of errors when it reachs the end of the first letter \n",
    "                try:\n",
    "                    if first[point] != i[point]:\n",
    "                        flag = 1\n",
    "                except:\n",
    "                    flag = 1\n",
    "\n",
    "        return first[0:point]\n"
   ]
  },
  {
   "cell_type": "code",
   "execution_count": 22,
   "metadata": {},
   "outputs": [
    {
     "data": {
      "text/plain": [
       "'flower'"
      ]
     },
     "execution_count": 22,
     "metadata": {},
     "output_type": "execute_result"
    }
   ],
   "source": [
    "a = Solution()\n",
    "a.longestCommonPrefix([\"flower\",\"flower\",\"flower\",\"flower\"])"
   ]
  }
 ],
 "metadata": {
  "kernelspec": {
   "display_name": "Python 3",
   "language": "python",
   "name": "python3"
  },
  "language_info": {
   "codemirror_mode": {
    "name": "ipython",
    "version": 3
   },
   "file_extension": ".py",
   "mimetype": "text/x-python",
   "name": "python",
   "nbconvert_exporter": "python",
   "pygments_lexer": "ipython3",
   "version": "3.11.0"
  }
 },
 "nbformat": 4,
 "nbformat_minor": 2
}
