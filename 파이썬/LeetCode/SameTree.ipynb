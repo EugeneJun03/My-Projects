{
 "cells": [
  {
   "cell_type": "markdown",
   "metadata": {},
   "source": [
    "### 10. Same Tree\n",
    "Given the roots of two binary trees p and q, write a function to check if they are the same or not.\n",
    "\n",
    "Two binary trees are considered the same if they are structurally identical, and the nodes have the same value."
   ]
  },
  {
   "cell_type": "code",
   "execution_count": 1,
   "metadata": {},
   "outputs": [
    {
     "ename": "NameError",
     "evalue": "name 'Optional' is not defined",
     "output_type": "error",
     "traceback": [
      "\u001b[1;31m---------------------------------------------------------------------------\u001b[0m",
      "\u001b[1;31mNameError\u001b[0m                                 Traceback (most recent call last)",
      "\u001b[1;32md:\\My-Projects\\My-Projects\\파이썬\\LeetCode\\SameTree.ipynb Cell 2\u001b[0m line \u001b[0;36m8\n\u001b[0;32m      <a href='vscode-notebook-cell:/d%3A/My-Projects/My-Projects/%ED%8C%8C%EC%9D%B4%EC%8D%AC/LeetCode/SameTree.ipynb#W1sZmlsZQ%3D%3D?line=4'>5</a>\u001b[0m         \u001b[39mself\u001b[39m\u001b[39m.\u001b[39mleft \u001b[39m=\u001b[39m left\n\u001b[0;32m      <a href='vscode-notebook-cell:/d%3A/My-Projects/My-Projects/%ED%8C%8C%EC%9D%B4%EC%8D%AC/LeetCode/SameTree.ipynb#W1sZmlsZQ%3D%3D?line=5'>6</a>\u001b[0m         \u001b[39mself\u001b[39m\u001b[39m.\u001b[39mright \u001b[39m=\u001b[39m right\n\u001b[1;32m----> <a href='vscode-notebook-cell:/d%3A/My-Projects/My-Projects/%ED%8C%8C%EC%9D%B4%EC%8D%AC/LeetCode/SameTree.ipynb#W1sZmlsZQ%3D%3D?line=7'>8</a>\u001b[0m \u001b[39mclass\u001b[39;49;00m \u001b[39mSolution\u001b[39;49;00m:\n\u001b[0;32m      <a href='vscode-notebook-cell:/d%3A/My-Projects/My-Projects/%ED%8C%8C%EC%9D%B4%EC%8D%AC/LeetCode/SameTree.ipynb#W1sZmlsZQ%3D%3D?line=8'>9</a>\u001b[0m     \u001b[39mdef\u001b[39;49;00m \u001b[39misSameTree\u001b[39;49m(\u001b[39mself\u001b[39;49m, p: Optional[TreeNode], q: Optional[TreeNode]) \u001b[39m-\u001b[39;49m\u001b[39m>\u001b[39;49m \u001b[39mbool\u001b[39;49m:\n\u001b[0;32m     <a href='vscode-notebook-cell:/d%3A/My-Projects/My-Projects/%ED%8C%8C%EC%9D%B4%EC%8D%AC/LeetCode/SameTree.ipynb#W1sZmlsZQ%3D%3D?line=9'>10</a>\u001b[0m         \u001b[39mif\u001b[39;49;00m p \u001b[39m==\u001b[39;49m \u001b[39mNone\u001b[39;49;00m \u001b[39mand\u001b[39;49;00m q \u001b[39m==\u001b[39;49m \u001b[39mNone\u001b[39;49;00m:\n",
      "\u001b[1;32md:\\My-Projects\\My-Projects\\파이썬\\LeetCode\\SameTree.ipynb Cell 2\u001b[0m line \u001b[0;36m9\n\u001b[0;32m      <a href='vscode-notebook-cell:/d%3A/My-Projects/My-Projects/%ED%8C%8C%EC%9D%B4%EC%8D%AC/LeetCode/SameTree.ipynb#W1sZmlsZQ%3D%3D?line=7'>8</a>\u001b[0m \u001b[39mclass\u001b[39;00m \u001b[39mSolution\u001b[39;00m:\n\u001b[1;32m----> <a href='vscode-notebook-cell:/d%3A/My-Projects/My-Projects/%ED%8C%8C%EC%9D%B4%EC%8D%AC/LeetCode/SameTree.ipynb#W1sZmlsZQ%3D%3D?line=8'>9</a>\u001b[0m     \u001b[39mdef\u001b[39;00m \u001b[39misSameTree\u001b[39m(\u001b[39mself\u001b[39m, p: Optional[TreeNode], q: Optional[TreeNode]) \u001b[39m-\u001b[39m\u001b[39m>\u001b[39m \u001b[39mbool\u001b[39m:\n\u001b[0;32m     <a href='vscode-notebook-cell:/d%3A/My-Projects/My-Projects/%ED%8C%8C%EC%9D%B4%EC%8D%AC/LeetCode/SameTree.ipynb#W1sZmlsZQ%3D%3D?line=9'>10</a>\u001b[0m         \u001b[39mif\u001b[39;00m p \u001b[39m==\u001b[39m \u001b[39mNone\u001b[39;00m \u001b[39mand\u001b[39;00m q \u001b[39m==\u001b[39m \u001b[39mNone\u001b[39;00m:\n\u001b[0;32m     <a href='vscode-notebook-cell:/d%3A/My-Projects/My-Projects/%ED%8C%8C%EC%9D%B4%EC%8D%AC/LeetCode/SameTree.ipynb#W1sZmlsZQ%3D%3D?line=10'>11</a>\u001b[0m             \u001b[39mreturn\u001b[39;00m \u001b[39mTrue\u001b[39;00m\n",
      "\u001b[1;31mNameError\u001b[0m: name 'Optional' is not defined"
     ]
    }
   ],
   "source": [
    "#Definition for a binary tree node. \n",
    "class TreeNode:\n",
    "    def __init__(self, val=0, left=None, right=None):\n",
    "        self.val = val\n",
    "        self.left = left\n",
    "        self.right = right\n",
    "        \n",
    "class Solution:\n",
    "    def isSameTree(self, p: Optional[TreeNode], q: Optional[TreeNode]) -> bool:\n",
    "        if p == None and q == None:\n",
    "            return True\n",
    "        if p == None or q == None or p.val != q.val:\n",
    "            return False\n",
    "\n",
    "        return (self.isSameTree(p.left, q.left) and self.isSameTree(p.right, q.right))"
   ]
  },
  {
   "cell_type": "code",
   "execution_count": null,
   "metadata": {},
   "outputs": [],
   "source": []
  }
 ],
 "metadata": {
  "kernelspec": {
   "display_name": "Python 3",
   "language": "python",
   "name": "python3"
  },
  "language_info": {
   "codemirror_mode": {
    "name": "ipython",
    "version": 3
   },
   "file_extension": ".py",
   "mimetype": "text/x-python",
   "name": "python",
   "nbconvert_exporter": "python",
   "pygments_lexer": "ipython3",
   "version": "3.11.0"
  }
 },
 "nbformat": 4,
 "nbformat_minor": 2
}
