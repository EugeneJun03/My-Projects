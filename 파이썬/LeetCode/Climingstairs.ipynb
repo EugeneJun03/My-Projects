{
 "cells": [
  {
   "cell_type": "markdown",
   "metadata": {},
   "source": [
    "### 70. Climing Stairs\n",
    "You are climbing a staircase. It takes n steps to reach the top.\n",
    "Each time you can either climb 1 or 2 steps. In how many distinct ways can you climb to the top?\n",
    "\n",
    "- Example 1:\n",
    "\n",
    "Input: n = 2\n",
    "\n",
    "Output: 2\n",
    "\n",
    "Explanation: There are two ways to climb to the top.\n",
    "\n",
    "1 step + 1 step\n",
    "\n",
    "2 steps\n",
    "\n",
    "\n",
    "- Example 2:\n",
    "\n",
    "Input: n = 3\n",
    "\n",
    "Output: 3\n",
    "\n",
    "Explanation: There are three ways to climb to the top.\n",
    "\n",
    "1 step + 1 step + 1 step\n",
    "\n",
    "1 step + 2 steps\n",
    "\n",
    "2 steps + 1 step"
   ]
  },
  {
   "cell_type": "code",
   "execution_count": null,
   "metadata": {},
   "outputs": [],
   "source": [
    "# I have been tring to solve it using some statical solutions but I feiled to loop the \"count\"function\n",
    "class Solution:\n",
    "    def count(self, m1:int, m2:int) -> int:\n",
    "        res = 0\n",
    "        for i in range()\n",
    "            \n",
    "    def climbStairs(self, n: int) -> int:\n",
    "        max2 = n//2\n",
    "        max1 = 0\n",
    "        res = 0\n",
    "        while max2 != 0:\n",
    "            max1 = n - max2*2\n",
    "            res += count(max1,max2)\n",
    "            max2 -= 1\n",
    "        return res\n",
    "        "
   ]
  },
  {
   "cell_type": "markdown",
   "metadata": {},
   "source": [
    "#### To calculate the number of ways to climb the stairs, we can observe that when we are on the nth stair,we have two options:\n",
    "\n",
    "1. either we climbed one stair from the (n-1)th stair or\n",
    "2. we climbed two stairs from the (n-2)th stair.\n",
    "\n",
    "By leveraging this observation, we can break down the problem into smaller subproblems and apply the concept of the Fibonacci series.\n",
    "\n",
    "The base cases are when we are on the 1st stair (only one way to reach it) and the 2nd stair (two ways to reach it).\n",
    "\n",
    "By summing up the number of ways to reach the (n-1)th and (n-2)th stairs, we can compute the total number of ways to climb the stairs. This allows us to solve the problem efficiently using various dynamic programming techniques such as recursion, memoization, tabulation, or space optimization.\n",
    "\n",
    "#### As a result it could be thought as Fibonacci numbers(but base is 1(n=0) and 1(n=1))\n",
    "- 1 1 2 3 5 8 13 21 34 55 ......."
   ]
  },
  {
   "cell_type": "code",
   "execution_count": 1,
   "metadata": {},
   "outputs": [],
   "source": [
    "class Solution:\n",
    "    def climbStairs(self, n: int) -> int:\n",
    "        memo = {}\n",
    "        return self.helper(n, memo)\n",
    "    \n",
    "    def helper(self, n: int, memo: dict[int, int]) -> int:\n",
    "        if n == 0 or n == 1:\n",
    "            return 1\n",
    "        if n not in memo:\n",
    "            memo[n] = self.helper(n-1, memo) + self.helper(n-2, memo)\n",
    "        return memo[n]"
   ]
  },
  {
   "cell_type": "code",
   "execution_count": 7,
   "metadata": {},
   "outputs": [
    {
     "data": {
      "text/plain": [
       "55"
      ]
     },
     "execution_count": 7,
     "metadata": {},
     "output_type": "execute_result"
    }
   ],
   "source": [
    "case1 = Solution()\n",
    "case1.climbStairs(9)"
   ]
  }
 ],
 "metadata": {
  "kernelspec": {
   "display_name": "Python 3",
   "language": "python",
   "name": "python3"
  },
  "language_info": {
   "codemirror_mode": {
    "name": "ipython",
    "version": 3
   },
   "file_extension": ".py",
   "mimetype": "text/x-python",
   "name": "python",
   "nbconvert_exporter": "python",
   "pygments_lexer": "ipython3",
   "version": "3.11.0"
  }
 },
 "nbformat": 4,
 "nbformat_minor": 2
}
