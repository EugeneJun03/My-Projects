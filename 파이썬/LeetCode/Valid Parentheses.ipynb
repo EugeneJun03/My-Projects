{
 "cells": [
  {
   "cell_type": "markdown",
   "metadata": {},
   "source": [
    "### 20. Valid Parentheses\n",
    "- Given a string s containing just the characters '(', ')', '{', '}', '[' and ']', determine if the input string is valid.\n",
    "\n",
    "An input string is valid if:\n",
    "\n",
    "1. Open brackets must be closed by the same type of brackets.\n",
    "2. Open brackets must be closed in the correct order.\n",
    "3. Every close bracket has a corresponding open bracket of the same type."
   ]
  },
  {
   "cell_type": "markdown",
   "metadata": {},
   "source": [
    "- Example 1:\n",
    "\n",
    "Input: s = \"()\"\n",
    "\n",
    "Output: true\n",
    "\n",
    "- Example 2:\n",
    "\n",
    "Input: s = \"()[]{}\"\n",
    "\n",
    "Output: true\n",
    "\n",
    "- Example 3:\n",
    "\n",
    "Input: s = \"(]\"\n",
    "\n",
    "Output: false"
   ]
  },
  {
   "cell_type": "code",
   "execution_count": 43,
   "metadata": {},
   "outputs": [],
   "source": [
    "class Solution:\n",
    "    def isValid(self, s):\n",
    "        l = list(s)\n",
    "        list_right = [\")\",\"}\",\"]\"]\n",
    "        list_left = [\"(\",\"{\",\"[\"]\n",
    "\n",
    "        num_r,num_l=0,0\n",
    "        for i in l:\n",
    "            if i in list_right:\n",
    "                num_r += 1\n",
    "            else:\n",
    "                num_l += 1\n",
    "        \n",
    "        if num_r != num_l:\n",
    "            return False\n",
    "        else:\n",
    "            while l != []:\n",
    "                pointer = 0\n",
    "                for i in range(len(l)):\n",
    "                    if pointer == 0 and l[pointer] in list_right:\n",
    "                        return False\n",
    "                    if pointer < len(l) and l[pointer] in list_left:\n",
    "                        pointer += 1\n",
    "                    else:\n",
    "                        if pointer < len(l) and l[pointer] in list_right and list_right.index(l[pointer]) == list_left.index(l[pointer-1]):\n",
    "                            del l[pointer-1:pointer+1]\n",
    "                            break\n",
    "                        else:\n",
    "                            return False\n",
    "                    if l == []:\n",
    "                        return True\n",
    "        return True"
   ]
  },
  {
   "cell_type": "markdown",
   "metadata": {},
   "source": [
    "- not good....complex and dirty code..."
   ]
  },
  {
   "cell_type": "code",
   "execution_count": 44,
   "metadata": {},
   "outputs": [
    {
     "data": {
      "text/plain": [
       "True"
      ]
     },
     "execution_count": 44,
     "metadata": {},
     "output_type": "execute_result"
    }
   ],
   "source": [
    "a = Solution()\n",
    "a.isValid(\"{[]}\")"
   ]
  },
  {
   "cell_type": "code",
   "execution_count": 45,
   "metadata": {},
   "outputs": [],
   "source": [
    "# by Bito\n",
    "class Solution:\n",
    "    def isValid(self, s):\n",
    "        stack = []\n",
    "        mapping = {\")\": \"(\", \"}\": \"{\", \"]\": \"[\"}\n",
    "        \n",
    "        for char in s:\n",
    "            if char in mapping.values():\n",
    "                stack.append(char)\n",
    "            elif char in mapping.keys():\n",
    "                if not stack or mapping[char] != stack.pop():\n",
    "                    return False\n",
    "        \n",
    "        return not stack"
   ]
  },
  {
   "cell_type": "markdown",
   "metadata": {},
   "source": [
    "- Bito used a idea of Stack system and I think it is briliant to use it."
   ]
  },
  {
   "cell_type": "code",
   "execution_count": 46,
   "metadata": {},
   "outputs": [],
   "source": [
    "# by PratikSen07\n",
    "class Solution(object):\n",
    "    def isValid(self, s):\n",
    "        # Create a pair of opening and closing parrenthesis...\n",
    "        opcl = dict(('()', '[]', '{}'))\n",
    "        # Create stack data structure...\n",
    "        stack = []\n",
    "        # Traverse each charater in input string...\n",
    "        for idx in s:\n",
    "            # If open parentheses are present, append it to stack...\n",
    "            if idx in '([{':\n",
    "                stack.append(idx)\n",
    "            # If the character is closing parentheses, check that the same type opening parentheses is being pushed to the stack or not...\n",
    "            # If not, we need to return false...\n",
    "            elif len(stack) == 0 or idx != opcl[stack.pop()]:\n",
    "                return False\n",
    "        # At last, we check if the stack is empty or not...\n",
    "        # If the stack is empty it means every opened parenthesis is being closed and we can return true, otherwise we return false...\n",
    "        return len(stack) == 0"
   ]
  }
 ],
 "metadata": {
  "kernelspec": {
   "display_name": "Python 3",
   "language": "python",
   "name": "python3"
  },
  "language_info": {
   "codemirror_mode": {
    "name": "ipython",
    "version": 3
   },
   "file_extension": ".py",
   "mimetype": "text/x-python",
   "name": "python",
   "nbconvert_exporter": "python",
   "pygments_lexer": "ipython3",
   "version": "3.11.0"
  }
 },
 "nbformat": 4,
 "nbformat_minor": 2
}
