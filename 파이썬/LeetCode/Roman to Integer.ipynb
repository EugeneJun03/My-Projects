{
 "cells": [
  {
   "cell_type": "markdown",
   "metadata": {},
   "source": [
    "### 13.Roman to Integer\n",
    "- Given a roman numeral, convert it to an integer.\n",
    "- Roman numerals are represented by seven different symbols: I, V, X, L, C, D and M.\n",
    "\n",
    "Symbol   :    Value\n",
    "\n",
    "I         :    1\n",
    "\n",
    "V          :   5\n",
    "\n",
    "X           :  10\n",
    "\n",
    "L            : 50\n",
    "\n",
    "C             :100\n",
    "\n",
    "D        :     500\n",
    "\n",
    "M         :    1000\n",
    "\n",
    "For example, 2 is written as II in Roman numeral, just two one's added together. 12 is written as XII, which is simply X + II. The number 27 is written as XXVII, which is XX + V + II.\n",
    "\n",
    "Roman numerals are usually written largest to smallest from left to right. However, the numeral for four is not IIII. Instead, the number four is written as IV. Because the one is before the five we subtract it making four. The same principle applies to the number nine, which is written as IX. There are six instances where subtraction is used:\n",
    "\n",
    "- I can be placed before V (5) and X (10) to make 4 and 9. \n",
    "- X can be placed before L (50) and C (100) to make 40 and 90. \n",
    "- C can be placed before D (500) and M (1000) to make 400 and 900.\n"
   ]
  },
  {
   "cell_type": "code",
   "execution_count": 10,
   "metadata": {},
   "outputs": [],
   "source": [
    "class Solution:\n",
    "    def romanToInt(self, s: str) -> int:\n",
    "        Roman_map = {'I': 1, 'V': 5, 'IV': 4, 'X': 10, 'IX': 9, 'L': 50, 'XL': 40, 'C': 100, 'XC': 90, 'D': 500, 'CD': 400, 'M': 1000, 'CM': 900}\n",
    "        res = 0\n",
    "        i = 0\n",
    "        while i < len(s)-1:\n",
    "            if s[i:i+2] in Roman_map:\n",
    "                res += Roman_map.get(s[i:i+2])\n",
    "                i+=2\n",
    "            else:\n",
    "                res += Roman_map.get(s[i])\n",
    "                i+=1\n",
    "        if i == len(s)-1:\n",
    "            res += Roman_map.get(s[i])\n",
    "        return res"
   ]
  },
  {
   "cell_type": "code",
   "execution_count": null,
   "metadata": {},
   "outputs": [],
   "source": [
    "# by rahulvarma5297\n",
    "class Solution:\n",
    "    def romanToInt(self, s: str) -> int:\n",
    "        m = {\n",
    "            'I': 1,\n",
    "            'V': 5,\n",
    "            'X': 10,\n",
    "            'L': 50,\n",
    "            'C': 100,\n",
    "            'D': 500,\n",
    "            'M': 1000\n",
    "        }\n",
    "        \n",
    "        ans = 0\n",
    "        \n",
    "        for i in range(len(s)):\n",
    "            if i < len(s) - 1 and m[s[i]] < m[s[i+1]]:\n",
    "                ans -= m[s[i]]\n",
    "            else:\n",
    "                ans += m[s[i]]\n",
    "        \n",
    "        return ans"
   ]
  },
  {
   "cell_type": "code",
   "execution_count": null,
   "metadata": {},
   "outputs": [],
   "source": [
    "# by GANJINAVEEN(beat 91% by using hashmap)\n",
    "class Solution:\n",
    "    def romanToInt(self, s: str) -> int:\n",
    "        roman={\"I\":1,\"V\":5,\"X\":10,\"L\":50,\"C\":100,\"D\":500,\"M\":1000}\n",
    "        number=0\n",
    "        for i in range(len(s)-1):\n",
    "            if roman[s[i]] < roman[s[(i+1)]]:\n",
    "                number-=roman[s[i]]\n",
    "            else:\n",
    "                number+=roman[s[i]]\n",
    "        return number+roman[s[-1]]\n"
   ]
  },
  {
   "cell_type": "code",
   "execution_count": 11,
   "metadata": {},
   "outputs": [
    {
     "data": {
      "text/plain": [
       "3"
      ]
     },
     "execution_count": 11,
     "metadata": {},
     "output_type": "execute_result"
    }
   ],
   "source": [
    "a = Solution()\n",
    "a.romanToInt(\"III\")"
   ]
  }
 ],
 "metadata": {
  "kernelspec": {
   "display_name": "Python 3",
   "language": "python",
   "name": "python3"
  },
  "language_info": {
   "codemirror_mode": {
    "name": "ipython",
    "version": 3
   },
   "file_extension": ".py",
   "mimetype": "text/x-python",
   "name": "python",
   "nbconvert_exporter": "python",
   "pygments_lexer": "ipython3",
   "version": "3.11.0"
  }
 },
 "nbformat": 4,
 "nbformat_minor": 2
}
