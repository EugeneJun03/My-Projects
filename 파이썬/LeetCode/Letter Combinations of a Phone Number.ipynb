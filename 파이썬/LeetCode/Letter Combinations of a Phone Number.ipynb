{
 "cells": [
  {
   "cell_type": "markdown",
   "metadata": {},
   "source": [
    "### 17. Letter Combinations of a Phone Number\n",
    "Given a string containing digits from 2-9 inclusive, return all possible letter combinations that the number could represent. Return the answer in any order.\n",
    "\n",
    "A mapping of digits to letters (just like on the telephone buttons) is given below. Note that 1 does not map to any letters.\n",
    "\n",
    "\n",
    "2: abc\n",
    "\n",
    "3: def\n",
    "\n",
    "4: ghi\n",
    "\n",
    "5: jkl\n",
    "\n",
    "6: mno\n",
    "\n",
    "7: pqrs\n",
    "\n",
    "8: tuv\n",
    "\n",
    "9: wxyz\n",
    "\n"
   ]
  },
  {
   "cell_type": "markdown",
   "metadata": {},
   "source": [
    "- Example 1:\n",
    "\n",
    "Input: digits = \"23\"\n",
    "\n",
    "Output: [\"ad\",\"ae\",\"af\",\"bd\",\"be\",\"bf\",\"cd\",\"ce\",\"cf\"]\n",
    "\n",
    "- Example 2:\n",
    "\n",
    "Input: digits = \"\"\n",
    "\n",
    "Output: []\n",
    "\n",
    "- Example 3:\n",
    "\n",
    "Input: digits = \"2\"\n",
    "\n",
    "Output: [\"a\",\"b\",\"c\"]"
   ]
  },
  {
   "cell_type": "code",
   "execution_count": 24,
   "metadata": {},
   "outputs": [],
   "source": [
    "# I fucked up......\n",
    "def recur(combination):\n",
    "    d\n",
    "\n",
    "class Solution:\n",
    "    def letterCombinations(self, digits):\n",
    "        letters = {2:\"abc\", 3:\"def\", 4:\"ghi\", 5:\"jkl\",6: \"mno\",7: \"pqrs\", 8: \"tuv\", 9: \"wxyz\"}\n",
    "        if len(digits) == 0:\n",
    "            return []\n",
    "        elif len(digits) == 1:\n",
    "            return list(letters[digits])\n",
    "        combination = [letters[int(i)] for i in digits]\n",
    "        for i in combination:\n",
    "            \n",
    "        recur(combination)\n",
    "        "
   ]
  },
  {
   "cell_type": "code",
   "execution_count": 25,
   "metadata": {},
   "outputs": [
    {
     "data": {
      "text/plain": [
       "['abc', 'def']"
      ]
     },
     "execution_count": 25,
     "metadata": {},
     "output_type": "execute_result"
    }
   ],
   "source": [
    "a = Solution()\n",
    "a.letterCombinations(\"23\")"
   ]
  },
  {
   "cell_type": "code",
   "execution_count": 29,
   "metadata": {},
   "outputs": [],
   "source": [
    "# Solution by Bito\n",
    "class Solution:\n",
    "    def letterCombinations(self, digits):\n",
    "        if not digits:\n",
    "            return []\n",
    "\n",
    "        # Mapping of digits to letters\n",
    "        digit_to_letters = {\n",
    "            '2': 'abc',\n",
    "            '3': 'def',\n",
    "            '4': 'ghi',\n",
    "            '5': 'jkl',\n",
    "            '6': 'mno',\n",
    "            '7': 'pqrs',\n",
    "            '8': 'tuv',\n",
    "            '9': 'wxyz'\n",
    "        }\n",
    "\n",
    "        # Function to perform the backtracking\n",
    "        def backtrack(index, path):\n",
    "            # If the current path length is equal to the length of digits, add it to results\n",
    "            if index == len(digits):\n",
    "                combinations.append(\"\".join(path))\n",
    "                return\n",
    "\n",
    "            # Get the letters that the current digit maps to, and iterate over them\n",
    "            current_digit = digits[index]\n",
    "            for letter in digit_to_letters[current_digit]:\n",
    "                path.append(letter)  # Choose the letter\n",
    "                backtrack(index + 1, path)  # Move to the next digit\n",
    "                path.pop()  # Backtrack\n",
    "\n",
    "        combinations = []\n",
    "        backtrack(0, []) ### Super Awsom!!!! I could't think about the index and the path to includ the information of the previous ones,,,,\n",
    "        return combinations\n",
    "\n",
    "# Example usage\n",
    "solution = Solution()\n",
    "result = solution.letterCombinations(\"23\")\n",
    "print(result)"
   ]
  },
  {
   "cell_type": "code",
   "execution_count": 1,
   "metadata": {},
   "outputs": [
    {
     "ename": "NameError",
     "evalue": "name 'List' is not defined",
     "output_type": "error",
     "traceback": [
      "\u001b[1;31m---------------------------------------------------------------------------\u001b[0m",
      "\u001b[1;31mNameError\u001b[0m                                 Traceback (most recent call last)",
      "Cell \u001b[1;32mIn[1], line 2\u001b[0m\n\u001b[0;32m      1\u001b[0m \u001b[38;5;66;03m# Solved by danieloi\u001b[39;00m\n\u001b[1;32m----> 2\u001b[0m \u001b[38;5;28;43;01mclass\u001b[39;49;00m\u001b[43m \u001b[49m\u001b[38;5;21;43;01mSolution\u001b[39;49;00m\u001b[43m:\u001b[49m\n\u001b[0;32m      3\u001b[0m \u001b[43m    \u001b[49m\u001b[38;5;28;43;01mdef\u001b[39;49;00m\u001b[43m \u001b[49m\u001b[38;5;21;43mletterCombinations\u001b[39;49m\u001b[43m(\u001b[49m\u001b[38;5;28;43mself\u001b[39;49m\u001b[43m,\u001b[49m\u001b[43m \u001b[49m\u001b[43mdigits\u001b[49m\u001b[43m:\u001b[49m\u001b[43m \u001b[49m\u001b[38;5;28;43mstr\u001b[39;49m\u001b[43m)\u001b[49m\u001b[43m \u001b[49m\u001b[38;5;241;43m-\u001b[39;49m\u001b[38;5;241;43m>\u001b[39;49m\u001b[43m \u001b[49m\u001b[43mList\u001b[49m\u001b[43m[\u001b[49m\u001b[38;5;28;43mstr\u001b[39;49m\u001b[43m]\u001b[49m\u001b[43m:\u001b[49m\n\u001b[0;32m      4\u001b[0m \u001b[43m        \u001b[49m\u001b[38;5;28;43;01mif\u001b[39;49;00m\u001b[43m \u001b[49m\u001b[38;5;129;43;01mnot\u001b[39;49;00m\u001b[43m \u001b[49m\u001b[43mdigits\u001b[49m\u001b[43m:\u001b[49m\n",
      "Cell \u001b[1;32mIn[1], line 3\u001b[0m, in \u001b[0;36mSolution\u001b[1;34m()\u001b[0m\n\u001b[0;32m      2\u001b[0m \u001b[38;5;28;01mclass\u001b[39;00m \u001b[38;5;21;01mSolution\u001b[39;00m:\n\u001b[1;32m----> 3\u001b[0m     \u001b[38;5;28;01mdef\u001b[39;00m \u001b[38;5;21mletterCombinations\u001b[39m(\u001b[38;5;28mself\u001b[39m, digits: \u001b[38;5;28mstr\u001b[39m) \u001b[38;5;241m-\u001b[39m\u001b[38;5;241m>\u001b[39m \u001b[43mList\u001b[49m[\u001b[38;5;28mstr\u001b[39m]:\n\u001b[0;32m      4\u001b[0m         \u001b[38;5;28;01mif\u001b[39;00m \u001b[38;5;129;01mnot\u001b[39;00m digits:\n\u001b[0;32m      5\u001b[0m             \u001b[38;5;28;01mreturn\u001b[39;00m []\n",
      "\u001b[1;31mNameError\u001b[0m: name 'List' is not defined"
     ]
    }
   ],
   "source": [
    "# Solved by danieloi\n",
    "class Solution:\n",
    "    def letterCombinations(self, digits: str) -> List[str]:\n",
    "        if not digits:\n",
    "            return []\n",
    "\n",
    "        # Mapping the digits to their corresponding letters\n",
    "        digit_mapping = {\n",
    "            '2': 'abc', '3': 'def', '4': 'ghi', '5': 'jkl', \n",
    "            '6': 'mno', '7': 'pqrs', '8': 'tuv', '9': 'wxyz'\n",
    "        }\n",
    "\n",
    "        combinations = []\n",
    "        self.backtrack(0, [], digits, digit_mapping, combinations)\n",
    "        return combinations\n",
    "\n",
    "    def backtrack(self, index: int, path: List[str], digits: str, letters: dict, combinations: List[str]):\n",
    "        # If the length of path and digits is same, we have a complete combination\n",
    "        if len(path) == len(digits):\n",
    "            combinations.append(''.join(path))\n",
    "            return\n",
    "        \n",
    "        # Get the list of letters using the index and digits[index]\n",
    "        possible_letters = letters[digits[index]]\n",
    "        \n",
    "        for letter in possible_letters:\n",
    "            # Add the current letter to the path\n",
    "            path.append(letter)\n",
    "            # Recursively explore the next digit\n",
    "            self.backtrack(index + 1, path, digits, letters, combinations)\n",
    "            # Remove the current letter from the path before backtracking to explore other combinations\n",
    "            path.pop()"
   ]
  }
 ],
 "metadata": {
  "kernelspec": {
   "display_name": "Python 3",
   "language": "python",
   "name": "python3"
  },
  "language_info": {
   "codemirror_mode": {
    "name": "ipython",
    "version": 3
   },
   "file_extension": ".py",
   "mimetype": "text/x-python",
   "name": "python",
   "nbconvert_exporter": "python",
   "pygments_lexer": "ipython3",
   "version": "3.11.0"
  }
 },
 "nbformat": 4,
 "nbformat_minor": 2
}
