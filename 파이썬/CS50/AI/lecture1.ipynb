{
 "cells": [
  {
   "cell_type": "markdown",
   "metadata": {},
   "source": [
    "# lecture 1 : Artificial Intelligence with Python\n",
    "\n",
    "0. Search\n",
    "1. Knowledge --- now\n",
    "2. Uncertainty\n",
    "3. Optimization\n",
    "4. Learning\n",
    "5. Neural Networks\n",
    "6. Language"
   ]
  },
  {
   "cell_type": "markdown",
   "metadata": {},
   "source": [
    "#### Knowledge-based agents\n",
    "- agents that reason by operating on internal representations of knowledge\n",
    "- sentence: an assertion about the world in a knowledge representation language\n",
    "#### Propositional Logic\n",
    "    - Propositional Symbols(P, Q, R)\n",
    "    - Logical connectives(~:Not, ^:And, v:Or, ->:Implication, <->:Biconditional)\n",
    "    ex) P, ~P, Q->P, P^R\n",
    "\n",
    "- Model: assignment of a truth value to every propostional symbol(a \"posible world\")\n",
    "- Knowledge base: a set of sentences known by a knowledge-based agent\n",
    "- Entailment(⊨): \"α ⊨ β\" in every model which sentence Alpha is True than sentence Beta is also true\n",
    "- Inference: the process of deriving new sentences from old ones\n"
   ]
  },
  {
   "cell_type": "markdown",
   "metadata": {},
   "source": [
    "#### Model Checking\n",
    "- To determine if KB is Entailment alpha:\n",
    "    - Enumerate all possible models\n",
    "    - If in every model where KB is true -> alpha is true, then KB entails alpha\n",
    "\n"
   ]
  },
  {
   "cell_type": "code",
   "execution_count": null,
   "metadata": {},
   "outputs": [],
   "source": [
    "from logic import * # it has additional file logic that has some funtions\n",
    "\n",
    "# Create new classes, each having a name, or a symbol, representing each proposition.\n",
    "rain = Symbol(\"rain\")  # It is raining.\n",
    "hagrid = Symbol(\"hagrid\")  # Harry visited Hagrid\n",
    "dumbledore = Symbol(\"dumbledore\")  # Harry visited Dumbledore\n",
    "\n",
    "# Save sentences into the KB\n",
    "knowledge = And(  # Starting from the \"And\" logical connective, becasue each proposition represents knowledge that we know to be true.\n",
    "    Implication(Not(rain), hagrid),  # ¬(It is raining) → (Harry visited Hagrid)\n",
    "\n",
    "    Or(hagrid, dumbledore),  # (Harry visited Hagrid) ∨ (Harry visited Dumbledore).\n",
    "\n",
    "    Not(And(hagrid, dumbledore)),  # ¬(Harry visited Hagrid ∧ Harry visited Dumbledore) i.e. Harry did not visit both Hagrid and Dumbledore.\n",
    "\n",
    "    dumbledore  # Harry visited Dumbledore. Note that while previous propositions contained multiple symbols with connectors, this is a proposition consisting of one symbol. This means that we take as a fact that, in this KB, Harry visited Dumbledore.\n",
    "    )"
   ]
  },
  {
   "cell_type": "code",
   "execution_count": null,
   "metadata": {},
   "outputs": [],
   "source": [
    "def check_all(knowledge, query, symbols, model):\n",
    "\n",
    "    # If model has an assignment for each symbol\n",
    "    # (The logic below might be a little confusing: we start with a list of symbols. The function is recursive, and every time it calls itself it pops one symbol from the symbols list and generates models from it. Thus, when the symbols list is empty, we know that we finished generating models with every possible truth assignment of symbols.)\n",
    "    if not symbols:\n",
    "\n",
    "        # If knowledge base is true in model, then query must also be true\n",
    "        if knowledge.evaluate(model):\n",
    "            return query.evaluate(model)\n",
    "        return True\n",
    "    else:\n",
    "\n",
    "        # Choose one of the remaining unused symbols\n",
    "        remaining = symbols.copy()\n",
    "        p = remaining.pop()\n",
    "\n",
    "        # Create a model where the symbol is true\n",
    "        model_true = model.copy()\n",
    "        model_true[p] = True\n",
    "\n",
    "        # Create a model where the symbol is false\n",
    "        model_false = model.copy()\n",
    "        model_false[p] = False\n",
    "\n",
    "        # Ensure entailment holds in both models\n",
    "        return(check_all(knowledge, query, remaining, model_true) and check_all(knowledge, query, remaining, model_false))"
   ]
  },
  {
   "cell_type": "markdown",
   "metadata": {},
   "source": [
    "## Knowledge Engineering\n"
   ]
  }
 ],
 "metadata": {
  "kernelspec": {
   "display_name": "Python 3",
   "language": "python",
   "name": "python3"
  },
  "language_info": {
   "name": "python",
   "version": "3.11.0"
  },
  "orig_nbformat": 4
 },
 "nbformat": 4,
 "nbformat_minor": 2
}
